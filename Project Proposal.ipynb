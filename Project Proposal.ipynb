{
 "cells": [
  {
   "cell_type": "code",
   "execution_count": 1,
   "id": "83a66390",
   "metadata": {},
   "outputs": [],
   "source": [
    "import opendatasets as od\n",
    "import pandas as pd"
   ]
  },
  {
   "cell_type": "markdown",
   "id": "95a003d3",
   "metadata": {},
   "source": [
    "# Project Proposal Form"
   ]
  },
  {
   "cell_type": "markdown",
   "id": "1ec67b63",
   "metadata": {},
   "source": [
    "## Project Title : The Analysis of Eartquakes in Turkey Between 1910 - 2017\n",
    "### Team Members: \n",
    "Mercan Uz 090190320 <br> \n",
    "Beyza Çelik 090190362"
   ]
  },
  {
   "cell_type": "markdown",
   "id": "df76bdb0",
   "metadata": {},
   "source": [
    "In this project, we will use the data from kaggle. The data is containing as it mentioned in contents section on the kaggle: \n",
    "* The data covers up all the recorded earthquakes in the latitudes between 25 - 50; longitudes 15 - 60. As the metering stations are placed in Turkey most of the recorded earthquakes are in latitudes between 35 - 45; longitudes 25 - 45. The database search time filter was set to dates 27/09/1910 to 27/09/2017. As there are too many earthquakes which have intensities smaller than 4.0, the filter of intensity was set to 3.5 to 9.0 (there was no earthquakes recorded larger than 9.0 intensity)."
   ]
  },
  {
   "cell_type": "markdown",
   "id": "5874fda4",
   "metadata": {},
   "source": [
    "### Project Proposal\n",
    "\n",
    "Especially when we are living in the Istanbul and waiting for a very big earthquake, this project can be really helpful for minimizing the loss of lives. Besides the expected big Istanbul earthquake, it can be used in life choices, investments and more. We can evaluate the probability of earthquake and shape our investments by the lowest loss risk. The risk of eartquakes is an important investment condition for invertors. Investors can safely invest to towns where the earthquake risk is low and it can be helpful for them to planning their capital in the long run."
   ]
  },
  {
   "cell_type": "markdown",
   "id": "fb1597ef",
   "metadata": {},
   "source": [
    "In this project, our goal is aswering the following questions:\n",
    "   * Can we estimate the magnitude, time and location of future earthquakes by using previous earthquake data for each city of Turkey?\n",
    "   * Can we say earthquakes are triggering each other (i.e. can an earthquake in Izmir trigger one in Istanbul).\n",
    "   * Can we find a relation between the types and provinces of earthquakes in Turkey?\n",
    "   * What are the most and least risky cities according to earthquake risk by estimated probabilities?"
   ]
  },
  {
   "cell_type": "markdown",
   "id": "7f8198d3",
   "metadata": {},
   "source": [
    "In short, for accomplishing these goals, we will analyze the data according the type, location, magnitude etc. and we will search for any relation in the data. We will analyze and visualize when it is necessary, we are dealing with a kind of big data and it is not easy that analyzing so many rows by human eyes."
   ]
  },
  {
   "cell_type": "markdown",
   "id": "a66ec161",
   "metadata": {},
   "source": [
    "### Project Data:\n",
    "We will use the following data in our project:"
   ]
  },
  {
   "cell_type": "markdown",
   "id": "10592447",
   "metadata": {},
   "source": [
    "We definitely wrote them on same cell on purpose because it is installing data from the website before importing it and we wanted to guarantee that we installed the data at the same time that we imported it, not before. So this data is not changed at all."
   ]
  },
  {
   "cell_type": "code",
   "execution_count": 4,
   "id": "12830966",
   "metadata": {},
   "outputs": [
    {
     "name": "stdout",
     "output_type": "stream",
     "text": [
      "Please provide your Kaggle credentials to download this dataset. Learn more: http://bit.ly/kaggle-creds\n",
      "Your Kaggle username: mercanuz\n",
      "Your Kaggle Key: ········\n",
      "Downloading earthquake.zip to .\\earthquake\n"
     ]
    },
    {
     "name": "stderr",
     "output_type": "stream",
     "text": [
      "100%|███████████████████████████████████████████████████████████████████████████████| 486k/486k [00:00<00:00, 2.08MB/s]"
     ]
    },
    {
     "name": "stdout",
     "output_type": "stream",
     "text": [
      "\n"
     ]
    },
    {
     "name": "stderr",
     "output_type": "stream",
     "text": [
      "\n"
     ]
    }
   ],
   "source": [
    "od.download(\"https://www.kaggle.com/datasets/caganseval/earthquake\")\n",
    "file =('earthquake/earthquake.csv')\n",
    "eqdata = pd.read_csv(file)"
   ]
  },
  {
   "cell_type": "markdown",
   "id": "2ab94e5e",
   "metadata": {},
   "source": [
    "If we installed and changed it before, you would probably see this:"
   ]
  },
  {
   "cell_type": "code",
   "execution_count": 5,
   "id": "800d6441",
   "metadata": {},
   "outputs": [
    {
     "name": "stdout",
     "output_type": "stream",
     "text": [
      "Skipping, found downloaded files in \".\\earthquake\" (use force=True to force download)\n"
     ]
    }
   ],
   "source": [
    "od.download(\"https://www.kaggle.com/datasets/caganseval/earthquake\")\n",
    "file =('earthquake/earthquake.csv')\n",
    "eqdata = pd.read_csv(file)"
   ]
  }
 ],
 "metadata": {
  "kernelspec": {
   "display_name": "Python 3 (ipykernel)",
   "language": "python",
   "name": "python3"
  },
  "language_info": {
   "codemirror_mode": {
    "name": "ipython",
    "version": 3
   },
   "file_extension": ".py",
   "mimetype": "text/x-python",
   "name": "python",
   "nbconvert_exporter": "python",
   "pygments_lexer": "ipython3",
   "version": "3.10.8"
  }
 },
 "nbformat": 4,
 "nbformat_minor": 5
}
